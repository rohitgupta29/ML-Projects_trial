{
 "cells": [
  {
   "cell_type": "code",
   "execution_count": 124,
   "metadata": {},
   "outputs": [],
   "source": [
    "import pandas as pd\n",
    "import numpy as np\n",
    "import matplotlib.pyplot as plt\n",
    "import seaborn as sns\n",
    "%matplotlib inline"
   ]
  },
  {
   "cell_type": "code",
   "execution_count": 125,
   "metadata": {},
   "outputs": [],
   "source": [
    "from sklearn.datasets import load_diabetes\n",
    "\n",
    "from sklearn import svm\n",
    "from sklearn.pipeline import make_pipeline\n",
    "from sklearn.preprocessing import StandardScaler\n",
    "from sklearn.model_selection import train_test_split\n",
    "\n",
    "from sklearn import svm, metrics\n"
   ]
  },
  {
   "cell_type": "code",
   "execution_count": 126,
   "metadata": {},
   "outputs": [],
   "source": [
    "keep_health = load_diabetes()"
   ]
  },
  {
   "cell_type": "code",
   "execution_count": 127,
   "metadata": {},
   "outputs": [
    {
     "data": {
      "text/plain": [
       "(442,)"
      ]
     },
     "execution_count": 127,
     "metadata": {},
     "output_type": "execute_result"
    }
   ],
   "source": [
    "keep_health.target.shape"
   ]
  },
  {
   "cell_type": "code",
   "execution_count": 128,
   "metadata": {},
   "outputs": [],
   "source": [
    "X = keep_health.data\n",
    "y = keep_health.target"
   ]
  },
  {
   "cell_type": "code",
   "execution_count": 130,
   "metadata": {},
   "outputs": [
    {
     "data": {
      "text/plain": [
       "array([[ 0.80050009,  1.06548848,  1.29708846, ..., -0.05449919,\n",
       "         0.41855058, -0.37098854],\n",
       "       [-0.03956713, -0.93853666, -1.08218016, ..., -0.83030083,\n",
       "        -1.43655059, -1.93847913],\n",
       "       [ 1.79330681,  1.06548848,  0.93453324, ..., -0.05449919,\n",
       "         0.06020733, -0.54515416],\n",
       "       ...,\n",
       "       [ 0.87686984,  1.06548848, -0.33441002, ..., -0.23293356,\n",
       "        -0.98558469,  0.32567395],\n",
       "       [-0.9560041 , -0.93853666,  0.82123474, ...,  0.55838411,\n",
       "         0.93615545, -0.54515416],\n",
       "       [-0.9560041 , -0.93853666, -1.53537419, ..., -0.83030083,\n",
       "        -0.08871747,  0.06442552]])"
      ]
     },
     "execution_count": 130,
     "metadata": {},
     "output_type": "execute_result"
    }
   ],
   "source": [
    "scaler = StandardScaler()\n",
    "X_scaled = scaler.fit_transform(X)\n",
    "X_scaled\n",
    "\n"
   ]
  },
  {
   "cell_type": "code",
   "execution_count": 131,
   "metadata": {},
   "outputs": [
    {
     "data": {
      "text/plain": [
       "array([151.,  75., 141., 206., 135.,  97., 138.,  63., 110., 310., 101.,\n",
       "        69., 179., 185., 118., 171., 166., 144.,  97., 168.,  68.,  49.,\n",
       "        68., 245., 184., 202., 137.,  85., 131., 283., 129.,  59., 341.,\n",
       "        87.,  65., 102., 265., 276., 252.,  90., 100.,  55.,  61.,  92.,\n",
       "       259.,  53., 190., 142.,  75., 142., 155., 225.,  59., 104., 182.,\n",
       "       128.,  52.,  37., 170., 170.,  61., 144.,  52., 128.,  71., 163.,\n",
       "       150.,  97., 160., 178.,  48., 270., 202., 111.,  85.,  42., 170.,\n",
       "       200., 252., 113., 143.,  51.,  52., 210.,  65., 141.,  55., 134.,\n",
       "        42., 111.,  98., 164.,  48.,  96.,  90., 162., 150., 279.,  92.,\n",
       "        83., 128., 102., 302., 198.,  95.,  53., 134., 144., 232.,  81.,\n",
       "       104.,  59., 246., 297., 258., 229., 275., 281., 179., 200., 200.,\n",
       "       173., 180.,  84., 121., 161.,  99., 109., 115., 268., 274., 158.,\n",
       "       107.,  83., 103., 272.,  85., 280., 336., 281., 118., 317., 235.,\n",
       "        60., 174., 259., 178., 128.,  96., 126., 288.,  88., 292.,  71.,\n",
       "       197., 186.,  25.,  84.,  96., 195.,  53., 217., 172., 131., 214.,\n",
       "        59.,  70., 220., 268., 152.,  47.,  74., 295., 101., 151., 127.,\n",
       "       237., 225.,  81., 151., 107.,  64., 138., 185., 265., 101., 137.,\n",
       "       143., 141.,  79., 292., 178.,  91., 116.,  86., 122.,  72., 129.,\n",
       "       142.,  90., 158.,  39., 196., 222., 277.,  99., 196., 202., 155.,\n",
       "        77., 191.,  70.,  73.,  49.,  65., 263., 248., 296., 214., 185.,\n",
       "        78.,  93., 252., 150.,  77., 208.,  77., 108., 160.,  53., 220.,\n",
       "       154., 259.,  90., 246., 124.,  67.,  72., 257., 262., 275., 177.,\n",
       "        71.,  47., 187., 125.,  78.,  51., 258., 215., 303., 243.,  91.,\n",
       "       150., 310., 153., 346.,  63.,  89.,  50.,  39., 103., 308., 116.,\n",
       "       145.,  74.,  45., 115., 264.,  87., 202., 127., 182., 241.,  66.,\n",
       "        94., 283.,  64., 102., 200., 265.,  94., 230., 181., 156., 233.,\n",
       "        60., 219.,  80.,  68., 332., 248.,  84., 200.,  55.,  85.,  89.,\n",
       "        31., 129.,  83., 275.,  65., 198., 236., 253., 124.,  44., 172.,\n",
       "       114., 142., 109., 180., 144., 163., 147.,  97., 220., 190., 109.,\n",
       "       191., 122., 230., 242., 248., 249., 192., 131., 237.,  78., 135.,\n",
       "       244., 199., 270., 164.,  72.,  96., 306.,  91., 214.,  95., 216.,\n",
       "       263., 178., 113., 200., 139., 139.,  88., 148.,  88., 243.,  71.,\n",
       "        77., 109., 272.,  60.,  54., 221.,  90., 311., 281., 182., 321.,\n",
       "        58., 262., 206., 233., 242., 123., 167.,  63., 197.,  71., 168.,\n",
       "       140., 217., 121., 235., 245.,  40.,  52., 104., 132.,  88.,  69.,\n",
       "       219.,  72., 201., 110.,  51., 277.,  63., 118.,  69., 273., 258.,\n",
       "        43., 198., 242., 232., 175.,  93., 168., 275., 293., 281.,  72.,\n",
       "       140., 189., 181., 209., 136., 261., 113., 131., 174., 257.,  55.,\n",
       "        84.,  42., 146., 212., 233.,  91., 111., 152., 120.,  67., 310.,\n",
       "        94., 183.,  66., 173.,  72.,  49.,  64.,  48., 178., 104., 132.,\n",
       "       220.,  57.])"
      ]
     },
     "execution_count": 131,
     "metadata": {},
     "output_type": "execute_result"
    }
   ],
   "source": [
    "y"
   ]
  },
  {
   "cell_type": "code",
   "execution_count": 133,
   "metadata": {},
   "outputs": [],
   "source": [
    "X_train, X_test, y_train, y_test = train_test_split(X_scaled, y, test_size = 0.25, random_state = 1 )"
   ]
  },
  {
   "cell_type": "code",
   "execution_count": null,
   "metadata": {},
   "outputs": [],
   "source": []
  },
  {
   "cell_type": "code",
   "execution_count": null,
   "metadata": {},
   "outputs": [],
   "source": []
  },
  {
   "cell_type": "markdown",
   "metadata": {},
   "source": [
    "### Applying SVR to the dataset"
   ]
  },
  {
   "cell_type": "code",
   "execution_count": 134,
   "metadata": {},
   "outputs": [
    {
     "data": {
      "text/plain": [
       "array([154.5531456 , 113.21775309, 146.27274018, 144.16013091,\n",
       "       127.32161948, 127.58114822, 113.57752317, 142.59808544,\n",
       "       143.88472572, 150.42258654, 131.44245721, 136.97027959,\n",
       "       116.0956868 , 142.30709687, 118.39950823, 149.77317991,\n",
       "       149.27846365, 157.87403052, 133.00084272, 118.8966883 ,\n",
       "       124.08725923, 118.96148191, 124.24453057, 158.83731036,\n",
       "       136.82047338, 137.49134683, 128.96303508, 139.96466642,\n",
       "       129.09664955, 145.52308488, 133.14812814, 114.42896607,\n",
       "       155.8983734 , 124.91476497, 118.30881823, 128.0882515 ,\n",
       "       149.36151011, 130.48619725, 162.71674747, 134.189576  ,\n",
       "       152.19675021, 128.11242153, 133.91735304, 125.2921671 ,\n",
       "       160.26849179, 129.73634512, 129.14521405, 131.42086741,\n",
       "       119.17768714, 151.21347129, 135.56883276, 144.89804421,\n",
       "       131.27855754, 142.31990695, 128.9775181 , 111.88859622,\n",
       "       150.56524551, 123.42758846, 131.69696684, 142.54603867,\n",
       "       123.54298151, 145.73354088, 111.43909419, 127.17645287,\n",
       "       129.85909581, 154.21031425, 143.80174051, 131.55454746,\n",
       "       126.5099739 , 128.61140656, 116.19523766, 161.05769606,\n",
       "       144.1381705 , 137.1958609 , 142.97982362, 131.40766118,\n",
       "       143.81411271, 122.41097119, 140.65243887, 125.88175085,\n",
       "       146.12302378, 134.01265767, 116.15799408, 131.27162664,\n",
       "       122.98122021, 138.10515242, 122.48780113, 134.20466501,\n",
       "       122.34259306, 116.61011734, 114.73514628, 152.38201216,\n",
       "       143.89163541, 116.15213916, 121.93231474, 133.08578714,\n",
       "       164.06932324, 157.48583571, 123.43234759, 137.56639673,\n",
       "       143.54609063, 128.21559466, 133.60548551, 148.95669572,\n",
       "       133.49755275, 127.25997548, 123.83882666, 144.97044176,\n",
       "       159.18223696, 148.8814827 , 121.26162011, 119.8194373 ,\n",
       "       137.01199023, 165.1836956 , 167.16542371, 155.5962074 ,\n",
       "       166.1748422 , 157.49621051, 150.39038607, 132.49478419,\n",
       "       135.08311154, 159.60995619, 165.16031627, 144.4020501 ,\n",
       "       134.1859047 , 149.03167632, 120.87010844, 126.19993045,\n",
       "       116.58819741, 160.38705367, 158.34103171, 123.05479496,\n",
       "       132.19333975, 119.54069479, 128.62197467, 157.76218379,\n",
       "       121.44710763, 159.69568793, 163.27941498, 163.36660303,\n",
       "       144.79812961, 153.53591371, 152.74854458, 118.96688835,\n",
       "       155.50798719, 150.4110016 , 155.82751799, 158.38570485,\n",
       "       130.09556184, 144.62541947, 154.29720839, 123.74212446,\n",
       "       157.94596841, 135.59463345, 143.81795928, 159.08198691,\n",
       "       126.20340357, 137.08239805, 120.37938733, 162.17295013,\n",
       "       116.08413517, 152.63850833, 133.07737617, 156.97122722,\n",
       "       129.6870659 , 111.98786271, 125.53337274, 166.71844653,\n",
       "       159.34766942, 157.6627935 , 112.34560538, 125.22977887,\n",
       "       166.71117755, 123.9042754 , 140.28685152, 126.52488189,\n",
       "       147.03591568, 162.89227575, 117.35472348, 147.27507538,\n",
       "       149.91972048, 124.27608556, 154.4335665 , 148.08192784,\n",
       "       154.35367058, 146.22469181, 150.01799801, 125.39380872,\n",
       "       141.09999972, 122.86202517, 154.46235929, 131.05061586,\n",
       "       121.74258585, 146.84551553, 134.35325784, 155.47143567,\n",
       "       121.63252275, 159.09958975, 134.27086539, 147.2808104 ,\n",
       "       129.15412317, 113.30353054, 149.17858943, 163.28332804,\n",
       "       153.57858856, 154.78396997, 148.33516788, 154.91288661,\n",
       "       160.31651034, 147.23760256, 127.90209533, 142.70036008,\n",
       "       137.7220165 , 117.13508529, 120.30091712, 161.76003142,\n",
       "       160.12280378, 159.03233908, 136.74805621, 130.26156547,\n",
       "       117.69267403, 132.97273156, 136.28244986, 128.53506642,\n",
       "       122.10037158, 161.45532473, 118.75757888, 128.26461629,\n",
       "       124.48049091, 116.22076822, 146.87406821, 139.9996659 ,\n",
       "       152.50335938, 128.97222999, 163.62613732, 149.81169425,\n",
       "       154.0067529 , 116.67388256, 152.21473429, 147.61284194,\n",
       "       168.02262409, 134.76891235, 127.6490339 , 121.35194942,\n",
       "       130.42119819, 124.90000006, 132.69873256, 121.85271035,\n",
       "       152.77019785, 167.44498919, 166.15286126, 160.86205328,\n",
       "       148.94355687, 159.72276202, 166.03840151, 120.34273069,\n",
       "       153.13007205, 119.01187621, 143.72592344, 137.32418087,\n",
       "       122.23021499, 137.04921306, 164.10019971, 115.92756046,\n",
       "       133.52724192, 130.6126749 , 120.87585156, 142.76753293,\n",
       "       167.03890181, 122.82841245, 148.35048008, 145.08994229,\n",
       "       134.14229935, 159.41451483, 147.23584551, 144.13142523,\n",
       "       147.48183596, 122.33788964, 138.07433069, 123.19766785,\n",
       "       144.30905446, 127.72663681, 144.3936129 , 113.31470652,\n",
       "       140.48024814, 154.62033385, 123.64660791, 144.5493382 ,\n",
       "       128.58580358, 150.00797864, 166.60842987, 151.99723247,\n",
       "       115.84272956, 146.06588694, 122.86076321, 133.95628805,\n",
       "       117.69820303, 119.26333499, 128.8466926 , 128.86178801,\n",
       "       157.2161818 , 135.25015162, 160.83262806, 157.41171875,\n",
       "       145.17433734, 138.59304778, 127.11148343, 150.81957737,\n",
       "       120.3467074 , 144.49299672, 156.42290843, 149.23699882,\n",
       "       122.54840994, 164.93529448, 140.57790717, 119.43164825,\n",
       "       160.35811215, 152.81461454, 140.60965139, 144.81954661,\n",
       "       153.94938607, 157.07523347, 156.0901834 , 159.37790096,\n",
       "       158.41262706, 156.40562501, 147.24961551, 155.05855831,\n",
       "       144.7636326 , 122.15839049, 155.19560096, 133.37354571,\n",
       "       169.22930697, 156.04767836, 119.34874341, 111.3466514 ,\n",
       "       153.5342066 , 151.55101799, 130.30110408, 139.80965472,\n",
       "       141.52336967, 151.22797769, 149.82544101, 138.5676283 ,\n",
       "       141.34705224, 140.80145599, 152.59088268, 123.97494807,\n",
       "       121.61758721, 134.36548071, 158.40413672, 122.86967299,\n",
       "       123.77191093, 145.16568409, 156.69519162, 129.75667357,\n",
       "       119.08042106, 147.58373001, 111.95016556, 156.99881461,\n",
       "       154.22041418, 127.26105343, 161.55493061, 141.25513104,\n",
       "       149.20653082, 147.74063294, 159.52019589, 159.94431791,\n",
       "       159.76801433, 149.22211897, 111.80628327, 157.43845771,\n",
       "       120.87322674, 129.43940082, 132.36873275, 152.4341166 ,\n",
       "       151.61335679, 149.06891269, 145.72227037, 133.21649015,\n",
       "       141.03974362, 124.86560553, 158.07210062, 121.28165881,\n",
       "       137.1906231 , 132.49144954, 116.00703026, 130.89374271,\n",
       "       144.68624717, 118.35620594, 169.07193947, 116.24929283,\n",
       "       129.2267779 , 118.48407269, 160.53007187, 136.87404563,\n",
       "       119.6826996 , 145.04234441, 142.66312143, 158.88097135,\n",
       "       141.15608629, 118.86167031, 148.4022093 , 162.57756044,\n",
       "       147.19762898, 151.18288185, 125.75982882, 146.85959332,\n",
       "       155.74327912, 153.03267867, 147.24486802, 133.24321195,\n",
       "       159.7936143 , 122.38100319, 150.02383763, 150.4155485 ,\n",
       "       157.50979684, 135.97081374, 132.19898177, 117.84693267,\n",
       "       144.23272644, 162.39858062, 151.69650967, 147.91656788,\n",
       "       149.34818114, 131.51949141, 154.9430985 , 129.55852001,\n",
       "       163.9812308 , 120.5618068 , 134.09727812, 129.35673218,\n",
       "       160.5010928 , 117.14008858, 128.67619051, 125.30646015,\n",
       "       114.34003494, 157.786925  , 137.39555452, 131.91372576,\n",
       "       156.13583915, 130.63967895])"
      ]
     },
     "execution_count": 134,
     "metadata": {},
     "output_type": "execute_result"
    }
   ],
   "source": [
    "#Those who are in Machine Learning or Data Science are quite familiar with the term SVM or Support Vector Machine. But SVR is a bit different from SVM. As the name suggest the SVR is an regression algorithm , so we can use SVR for working with continuous Values instead of Classification which is SVM.\n",
    "\n",
    "\n",
    "#X = [[0, 0], [2, 2]]\n",
    "#y = [0.5, 2.5]\n",
    "regr = svm.SVR()\n",
    "regr.fit(X, y)\n",
    "y_nu = regr.predict(X)\n",
    "y_nu\n"
   ]
  },
  {
   "cell_type": "markdown",
   "metadata": {},
   "source": [
    "### Trying Cross Validation"
   ]
  },
  {
   "cell_type": "code",
   "execution_count": 135,
   "metadata": {},
   "outputs": [
    {
     "data": {
      "image/png": "[encoded data removed]",
      "text/plain": [
       "<Figure size 432x288 with 1 Axes>"
      ]
     },
     "metadata": {
      "needs_background": "light"
     },
     "output_type": "display_data"
    }
   ],
   "source": [
    "from sklearn.model_selection import cross_val_predict\n",
    "\n",
    "predicted = cross_val_predict(regr, X, y_nu, cv = 10 )\n",
    "\n",
    "\n",
    "fig, ax = plt.subplots()\n",
    "ax.scatter(y, predicted)\n",
    "ax.plot([y.min(), y.max()], [y.min(), y.max()], 'k--', lw=4)\n",
    "ax.set_xlabel('Measured')\n",
    "ax.set_ylabel('Predicted')\n",
    "plt.show()"
   ]
  },
  {
   "cell_type": "markdown",
   "metadata": {},
   "source": [
    "### Extra : Developing a Pipeline"
   ]
  },
  {
   "cell_type": "code",
   "execution_count": 137,
   "metadata": {},
   "outputs": [
    {
     "data": {
      "text/plain": [
       "Pipeline(memory=None,\n",
       "         steps=[('standardscaler',\n",
       "                 StandardScaler(copy=True, with_mean=True, with_std=True)),\n",
       "                ('svr',\n",
       "                 SVR(C=1.0, cache_size=200, coef0=0.0, degree=3, epsilon=0.2,\n",
       "                     gamma='scale', kernel='rbf', max_iter=-1, shrinking=True,\n",
       "                     tol=0.001, verbose=False))],\n",
       "         verbose=False)"
      ]
     },
     "execution_count": 137,
     "metadata": {},
     "output_type": "execute_result"
    }
   ],
   "source": [
    "n_samples, n_features = 10, 5\n",
    "rng = np.random.RandomState(0)\n",
    "y = rng.randn(n_samples)\n",
    "X = rng.randn(n_samples, n_features)\n",
    "regr = make_pipeline(StandardScaler(), SVR(C=1.0, epsilon=0.2))\n",
    "regr.fit(X, y)\n"
   ]
  },
  {
   "cell_type": "code",
   "execution_count": 138,
   "metadata": {},
   "outputs": [],
   "source": [
    "# to convert bunch file to Pandas DataFrame\n",
    "# df = pd.DataFrame(keep_health.data, columns= keep_health.feature_names)\n",
    "# df.head()\n",
    "\n",
    "# health = pd.DataFrame(data= np.c_[keep_health['data'], keep_health['target']],\n",
    "#                      columns= keep_health['feature_names'] + ['target'])\n",
    "\n",
    "# health.head()"
   ]
  },
  {
   "cell_type": "code",
   "execution_count": null,
   "metadata": {},
   "outputs": [],
   "source": []
  },
  {
   "cell_type": "code",
   "execution_count": null,
   "metadata": {},
   "outputs": [],
   "source": []
  },
  {
   "cell_type": "code",
   "execution_count": null,
   "metadata": {},
   "outputs": [],
   "source": []
  },
  {
   "cell_type": "code",
   "execution_count": null,
   "metadata": {},
   "outputs": [],
   "source": []
  },
  {
   "cell_type": "code",
   "execution_count": 111,
   "metadata": {},
   "outputs": [],
   "source": []
  },
  {
   "cell_type": "code",
   "execution_count": null,
   "metadata": {},
   "outputs": [],
   "source": []
  },
  {
   "cell_type": "code",
   "execution_count": null,
   "metadata": {},
   "outputs": [],
   "source": []
  },
  {
   "cell_type": "code",
   "execution_count": null,
   "metadata": {},
   "outputs": [],
   "source": []
  }
 ],
 "metadata": {
  "kernelspec": {
   "display_name": "Python 3",
   "language": "python",
   "name": "python3"
  },
  "language_info": {
   "codemirror_mode": {
    "name": "ipython",
    "version": 3
   },
   "file_extension": ".py",
   "mimetype": "text/x-python",
   "name": "python",
   "nbconvert_exporter": "python",
   "pygments_lexer": "ipython3",
   "version": "3.7.6"
  }
 },
 "nbformat": 4,
 "nbformat_minor": 4
}
