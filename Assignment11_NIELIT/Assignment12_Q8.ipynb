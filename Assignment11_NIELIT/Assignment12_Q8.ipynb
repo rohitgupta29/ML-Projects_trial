{
 "cells": [
  {
   "cell_type": "markdown",
   "metadata": {},
   "source": [
    "## Generate the box plot showing the comparison of cross validated RMSE values for different algorithms for the boston dataset. Apply any 5 regressors including Ridge and Lasso"
   ]
  },
  {
   "cell_type": "code",
   "execution_count": 28,
   "metadata": {},
   "outputs": [],
   "source": [
    "import pandas as pd\n",
    "import numpy as np\n",
    "import matplotlib.pyplot as plt"
   ]
  },
  {
   "cell_type": "code",
   "execution_count": 35,
   "metadata": {},
   "outputs": [],
   "source": [
    "from sklearn.linear_model import Ridge\n",
    "from sklearn.linear_model import Lasso\n",
    "from sklearn import linear_model\n",
    "from sklearn.datasets import load_boston\n",
    "import math\n",
    "from sklearn.neighbors import KNeighborsRegressor\n",
    "\n",
    "from sklearn.linear_model import ElasticNet\n",
    "from sklearn.tree import DecisionTreeRegressor\n",
    "\n",
    "boston = load_boston()\n",
    "X= boston.data\n",
    "y= boston.target\n",
    "\n",
    "Ls = Lasso()\n",
    "m1 = Ls.fit(X,y)\n",
    "\n",
    "Rd = Ridge()\n",
    "m2 = Rd.fit(X,y)\n",
    "\n",
    "knn = KNeighborsRegressor()\n",
    "m0 = knn.fit(X,y)\n",
    "\n",
    "en = ElasticNet()\n",
    "m3 = en.fit(X,y)\n",
    "\n",
    "dt = DecisionTreeRegressor()\n",
    "m4 = dt.fit(X,y)\n",
    "\n",
    "lr = linear_model.LinearRegression()\n",
    "m5 = lr.fit(X,y)\n",
    "\n",
    "cross_val_acc_0 = cross_val_score(Ls, X,y, scoring = 'neg_mean_squared_error', cv=5 )\n",
    "cross_val_acc_1 = cross_val_score(Rd, X,y, scoring = 'neg_mean_squared_error', cv=5 )\n",
    "cross_val_acc_2 = cross_val_score(knn, X,y, scoring = 'neg_mean_squared_error', cv=5 )\n",
    "cross_val_acc_3 = cross_val_score(en, X,y, scoring = 'neg_mean_squared_error', cv=5 )\n",
    "cross_val_acc_4 = cross_val_score(dt, X,y, scoring = 'neg_mean_squared_error', cv=5 )\n",
    "cross_val_acc_5 = cross_val_score(lr, X,y, scoring = 'neg_mean_squared_error', cv=5 )\n",
    "\n",
    "rmse_0 = np.sqrt(-cross_val_acc_0)\n",
    "rmse_1 = np.sqrt(-cross_val_acc_1)\n",
    "rmse_2 = np.sqrt(-cross_val_acc_2)\n",
    "rmse_3 = np.sqrt(-cross_val_acc_3)\n",
    "rmse_4 = np.sqrt(-cross_val_acc_4)\n",
    "rmse_5 = np.sqrt(-cross_val_acc_5)"
   ]
  },
  {
   "cell_type": "code",
   "execution_count": 36,
   "metadata": {},
   "outputs": [
    {
     "data": {
      "text/plain": [
       "(array([3.8911849 , 5.77343876, 7.3001866 , 7.52355693, 4.39173688]),\n",
       " array([3.42213872, 4.85625041, 5.44916453, 8.9571135 , 5.57818767]),\n",
       " array([ 8.53475501,  8.80002543, 10.68634198,  9.4342498 ,  5.58833474]),\n",
       " array([3.85259923, 5.54155376, 6.91332894, 6.88979837, 4.41063163]),\n",
       " array([3.69352905, 5.43319464, 5.48477641, 7.41358801, 8.69963582]),\n",
       " array([3.52991509, 5.10378498, 5.75101191, 8.9867887 , 5.77179405]))"
      ]
     },
     "execution_count": 36,
     "metadata": {},
     "output_type": "execute_result"
    }
   ],
   "source": [
    "rmse_0, rmse_1,rmse_2,rmse_3,rmse_4,rmse_5"
   ]
  },
  {
   "cell_type": "code",
   "execution_count": 37,
   "metadata": {},
   "outputs": [
    {
     "data": {
      "image/png": "[encoded data removed]",
      "text/plain": [
       "<Figure size 720x504 with 1 Axes>"
      ]
     },
     "metadata": {
      "needs_background": "light"
     },
     "output_type": "display_data"
    }
   ],
   "source": [
    "ig = plt.figure(figsize =(10, 7)) \n",
    "plt.boxplot([rmse_0, rmse_1,rmse_2,rmse_3,rmse_4,rmse_5])\n",
    "plt.show() "
   ]
  },
  {
   "cell_type": "code",
   "execution_count": null,
   "metadata": {},
   "outputs": [],
   "source": []
  }
 ],
 "metadata": {
  "kernelspec": {
   "display_name": "Python 3",
   "language": "python",
   "name": "python3"
  },
  "language_info": {
   "codemirror_mode": {
    "name": "ipython",
    "version": 3
   },
   "file_extension": ".py",
   "mimetype": "text/x-python",
   "name": "python",
   "nbconvert_exporter": "python",
   "pygments_lexer": "ipython3",
   "version": "3.7.6"
  }
 },
 "nbformat": 4,
 "nbformat_minor": 4
}
